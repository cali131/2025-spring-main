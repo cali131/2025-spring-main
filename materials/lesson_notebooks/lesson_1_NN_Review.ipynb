{
 "cells": [
  {
   "cell_type": "markdown",
   "metadata": {
    "id": "8IC2wq-6dd09"
   },
   "source": [
    "## Notebook for Lesson 1 - Review of Neural Net Basics\n",
    "\n",
    "**Note:** lesson notebooks are created for the purpose of in-class illustrations and student experimentation after class.\n",
    "\n",
    "Back to [week 1 slides](https://docs.google.com/presentation/d/1ggbL9_vteSQMRl0lXgCSxT0xpl810eqhcEjVhHmmTWI/edit#slide=id.g1223b215f96_0_6)\n",
    "\n",
    "**Description:** Review some basics about cross entropy loss functions, vectors, matrices and tensors that we will use throughout the rest of the class.<br>\n",
    "\n",
    "Section 1 deals with setup and prerequisites, which does not need a lot of discussion.\n",
    "Cross entropy and loss functions are handled in section 2. Section 3 looks at vectors, matrices and their implementation and manipulation in Tensorflow. Section 4 discusses and demonstrates the softmax operation.  Section 5 uses the keras sequential API.  Section 6 introduces the Keras functional API, which we'll use in the remainder of the class, and demonstrates the effect of normalization on a layer's output.\n",
    "\n",
    "<a id = 'returnToTop'></a>\n",
    "\n",
    "## Notebook Contents\n",
    "  * 1. [Setup](#setup)\n",
    "  * 2. [Entropy and Loss Function Review](#entropyReview)\n",
    "    * 2.1 [Entropy](#entropyReview)  \n",
    "    * 2.2 [Cross Entropy](#crossEntropy)\n",
    "    * 2.3 [KL Divergence](#klDivergence)\n",
    "    * 2.4 [Checking a Few Things About Cross-Entropy](#checkingXEntropy)    \n",
    "  * 3. [A Few Basic Words on Vector and Matrix Calculations](#vectorMatrixCalc)\n",
    "    * 3.1 [Tensors and Tensor Manipulation](#tensorManipulation)\n",
    "  * 4. [Familiarization with the Output Layer and the Softmax Operation](#softmax)\n",
    "  * 5. [Most Basic Keras Intro](#basicKeras)\n",
    "  * 6. [Effects of Layer Normalization](#normalization)\n",
    "\n",
    "\n",
    "\n",
    "\n",
    "[![Open In Colab](https://colab.research.google.com/assets/colab-badge.svg)](https://colab.research.google.com/github/datasci-w266/2025-spring-main/blob/master/materials/lesson_notebooks/lesson_1_NN_Review.ipynb)"
   ]
  },
  {
   "cell_type": "markdown",
   "metadata": {
    "id": "lfWIyVzMdd1G"
   },
   "source": [
    "[Return to Top](#returnToTop)  \n",
    "<a id = 'setup'></a>\n",
    "\n",
    "## 1. Setup"
   ]
  },
  {
   "cell_type": "code",
   "execution_count": 1,
   "metadata": {
    "id": "NJ3B3JgVdd1G"
   },
   "outputs": [],
   "source": [
    "import os\n",
    "os.environ[\"KERAS_BACKEND\"] = \"tensorflow\"\n",
    "\n",
    "from random import random\n",
    "import numpy as np\n",
    "\n",
    "from matplotlib import pyplot as plt\n",
    "\n",
    "import tensorflow as tf\n",
    "import keras\n",
    "from keras import layers"
   ]
  },
  {
   "cell_type": "code",
   "execution_count": 2,
   "metadata": {
    "id": "nOlES9Zxdd1J"
   },
   "outputs": [],
   "source": [
    "# 4-window plot. Small modification from matplotlib examples.\n",
    "\n",
    "def make_plot(axs, history1, history2):\n",
    "    box = dict(facecolor='yellow', pad=5, alpha=0.2)\n",
    "\n",
    "    ax1 = axs[0, 0]\n",
    "    ax1.plot(history1.history['loss'])\n",
    "    ax1.plot(history1.history['val_loss'])\n",
    "    ax1.set_title('loss - no dropout')\n",
    "    ax1.set_ylabel('loss', bbox=box)\n",
    "    ax1.set_ylim(0, 0.7)\n",
    "\n",
    "    ax3 = axs[1, 0]\n",
    "    ax3.set_title('accuracy - no dropout')\n",
    "    ax3.plot(history1.history['categorical_accuracy'])\n",
    "    ax3.plot(history1.history['val_categorical_accuracy'])\n",
    "    ax3.set_ylabel('accuracy', bbox=box)\n",
    "    ax3.set_ylim(0.7, 1.0)\n",
    "\n",
    "\n",
    "    ax2 = axs[0, 1]\n",
    "    ax2.set_title('loss - with dropout')\n",
    "    ax2.plot(history2.history['loss'])\n",
    "    ax2.plot(history2.history['val_loss'])\n",
    "    ax2.set_ylim(0, 0.7)\n",
    "\n",
    "    ax4 = axs[1, 1]\n",
    "    ax4.set_title('accuracy - with dropout')\n",
    "    ax4.plot(history2.history['categorical_accuracy'])\n",
    "    ax4.plot(history2.history['val_categorical_accuracy'])\n",
    "    ax4.set_ylim(0.7, 1.0)"
   ]
  },
  {
   "cell_type": "markdown",
   "metadata": {
    "id": "li-WxqGTdd1K"
   },
   "source": [
    "[Return to Top](#returnToTop)  \n",
    "<a id = 'entropyReview'></a>\n",
    "\n",
    "## 2. Entropy and Loss Review\n",
    "\n",
    "\n",
    "### 2.1 Entropy\n",
    "\n",
    "[Entropy (Shannon entropy)](https://en.wikipedia.org/wiki/Shannon_entropy) is a notion of how \"uncertain\" the outcome of some experiment is.  The more uncertain - or the more spread out the distribution - the higher the entropy. *(Aside: some of you may have encountered \"entropy\" in a thermodynamics class.  Entropy as we're defining it here is conceptually similar - a notion of the amount of disorder in a system, and the concepts are closely related.)*\n",
    "\n",
    "Mathematically, for a (discrete) random variable $X$,\n",
    "\n",
    "$$\\text{Entropy}(X) = H(X) = -\\Sigma_x\\ p(x) \\log_2 p(x)$$\n",
    "\n",
    "*(We take $0 \\times log_2(0) = 0$, although in the \"real world\" probabilities are rarely equal to 0.)*\n",
    "\n",
    "Or, in English: imagine you have some probability distribution over a discrete set of events $X$.  Loop over each event and take the product of the probability of that event and the base-2 log of the probability.  Or, put another way, find the expected value $E[-\\log_2 p(x)]$ for this probability distribution.\n",
    "\n",
    "\n",
    "\n",
    "Imagine a probability distribution $p$ across 5 outcomes.  These would correspond to the true distribution over five labels in a multi-class classification problem."
   ]
  },
  {
   "cell_type": "code",
   "execution_count": 3,
   "metadata": {
    "colab": {
     "base_uri": "https://localhost:8080/"
    },
    "id": "yEAhnBSNdd1K",
    "outputId": "4f9b9adf-b1d3-4a11-a2fa-4db32e85c771",
    "scrolled": true
   },
   "outputs": [
    {
     "name": "stdout",
     "output_type": "stream",
     "text": [
      "[0.3  0.2  0.1  0.25 0.15]\n"
     ]
    }
   ],
   "source": [
    "p = np.array([0.3,0.2,0.1,0.25,0.15])\n",
    "print(p)"
   ]
  },
  {
   "cell_type": "markdown",
   "metadata": {
    "id": "hvWWs4-Fdd1M"
   },
   "source": [
    "Calculate the entropy:"
   ]
  },
  {
   "cell_type": "code",
   "execution_count": 4,
   "metadata": {
    "colab": {
     "base_uri": "https://localhost:8080/"
    },
    "id": "HmXw-ISEdd1N",
    "outputId": "9b6a81e6-adcb-4c97-cca8-8efb1d0a63b0"
   },
   "outputs": [
    {
     "name": "stdout",
     "output_type": "stream",
     "text": [
      "2.228212945841001\n"
     ]
    }
   ],
   "source": [
    "S = -(0.3 * np.log2(0.3) + 0.2 * np.log2(0.2) + 0.1 * np.log2(0.1) + 0.25 * np.log2(0.25) + 0.15 * np.log2(0.15))\n",
    "print(S)"
   ]
  },
  {
   "cell_type": "markdown",
   "metadata": {
    "id": "KTY_nyj2dd1O"
   },
   "source": [
    "Explicit, but tedious and silly. Better way? Use vectors:"
   ]
  },
  {
   "cell_type": "code",
   "execution_count": 5,
   "metadata": {
    "colab": {
     "base_uri": "https://localhost:8080/"
    },
    "id": "pap8-A61dd1P",
    "outputId": "e6220387-e464-4ed2-98a2-be8e32d558ca"
   },
   "outputs": [
    {
     "name": "stdout",
     "output_type": "stream",
     "text": [
      "2.228212945841001\n"
     ]
    }
   ],
   "source": [
    "S = - np.dot(p, np.log2(p))\n",
    "print(S)"
   ]
  },
  {
   "cell_type": "markdown",
   "metadata": {
    "id": "q0tt8QSpdd1P"
   },
   "source": [
    "Same result. Good."
   ]
  },
  {
   "cell_type": "markdown",
   "metadata": {
    "id": "MH2h0Du8dd1P"
   },
   "source": [
    "[Return to Top](#returnToTop)  \n",
    "<a id = 'crossEntropy'></a>\n",
    "\n",
    "### 2.2 Cross Entropy\n",
    "\n",
    "What if we get the code wrong? Suppose we have a finite sample of messages (introducing some _variance_), and we train a machine learning model (introducing some _bias_) to estimate the true probabilities. Let's call the predicted distribution $Q(X)$.\n",
    "\n",
    "Now we generate a code based on $Q(X)$, and use it to encode real messages (which come from $P(X)$). How many bits do we use, on average?\n",
    "\n",
    "If we design an optimal code for $Q$, we use $-\\log_2 Q(x)$ bits for message $x$. Then we average this over $x \\sim P$ to get:\n",
    "\n",
    "$$ \\text{CE}(P,Q) = \\sum_{x} - P(x) \\log_2 Q(x) = \\mathrm{E}_{x \\sim P(x)}\\left[ -\\log_2 Q(x) \\right] $$\n",
    "\n",
    "Since we \"crossed\" the code from $Q$ and used it on $P$, this is known as the [**cross-entropy**](https://en.wikipedia.org/wiki/Cross_entropy). Note that $ \\text{CE}(P,Q) \\ge H(P) $, because we know that the code trained on $Q$ can't possibly be better than the optimal code on $P$ itself!\n",
    "\n",
    "In the form above, this is the most commonly used loss function in machine learning. In unsupervised learning (density estimation), we use it exactly as-is, with $x$ as the data. In supervised learning, we take the random variable to be the label $y$, and take our distributions to be conditional ones: $P(y\\ |\\ x)$ and $Q(y\\ |\\ x)$:\n",
    "$$ \\text{CE}(P,Q)(x) = \\sum_{y'} -P(y'\\ |\\ x) \\log_2 Q(y'\\ |\\ x) $$\n",
    "It's common to average over $x$ and to approximate $P(y\\ |\\ x)$ with discrete samples $(x,y)$ from a test set $T$, in which case we get:\n",
    "\n",
    "$$ \\text{CE}(P,Q)\n",
    "\\approx \\frac{1}{|T|} \\sum_{(x,y) \\in T} \\sum_{y'} -\\mathbb{1}[y = y'] \\log_2 Q(y'\\ |\\ x)\n",
    "= \\frac{1}{|T|} \\sum_{(x,y) \\in T} -\\log_2 Q(y\\ |\\ x)\n",
    "$$\n",
    "\n",
    "We'll commonly also write this using natural logarithms, but you can always convert between the two by the formula $ \\log_2(x) = \\log_2(e) \\cdot \\ln(x) $."
   ]
  },
  {
   "cell_type": "markdown",
   "metadata": {
    "id": "Yk6baLz1dd1Q"
   },
   "source": [
    "[Return to Top](#returnToTop)  \n",
    "<a id = 'klDivergence'></a>\n",
    "\n",
    "### 2.3 KL Divergence\n",
    "\n",
    "We learned that we use the word \"cross-entropy\" to refer to the average number of bits we need if we design our code with $Q(X)$ (i.e. our model) in mind but end up sending with probability $P(X)$ (i.e. the test set).  Similarly, \"entropy\" is the average bits we need if we design with the right distribution in mind.\n",
    "\n",
    "We don't yet have a name for the difference between these quantities (i.e. the size of the *penalty* for using the wrong distribution to optimize our code).  That difference is known as the [Kullback–Leibler divergence](https://en.wikipedia.org/wiki/Kullback%E2%80%93Leibler_divergence), or KL divergence for short.\n",
    "\n",
    "It is a measure of how different two probability distributions are.  The more $Q$ differs from $P$, the worse the penalty would be, and thus the higher the KL divergence.\n",
    "\n",
    "That is,\n",
    "$$ D_{KL}(P\\ ||\\ Q) = CE(P, Q) - H(P)$$\n",
    "\n",
    "From a machine learning perspective, the KL divergence measures the \"avoidable\" error - when our model is perfect (i.e. the *distribution* $\\hat{P}(y\\ |\\ x_i) = P(y\\ |\\ x_i)$, the KL divergence goes to zero. In general, the cross-entropy loss - and prediction accuracy - will not be zero, but will be equal to the entropy $H(P)$. This \"unavoidable\" error is the [Bayes error rate](https://en.wikipedia.org/wiki/Bayes_error_rate) for the underlying task.\n",
    "\n",
    "**Important note:** we're taking the true distribution $y_i = P(y\\ |\\ x_i) = [1, 0, 0, 0]$ in this example to be one-hot (i.e. all mass on one value). This is different from the one-hot encoding we use for training labels, which are _observations_ (single values) _sampled_ from some true distribution $y_i^\\text{obs} \\sim P(y\\ |\\ x_i)$. In that case, one-hot encoding is just a convenient shortcut. In general - and particularly in NLP - we'll have some label uncertainty, and the true distribution $P(y\\ |\\ x_i)$ will be spread among potentially many possibilities.\n",
    "\n",
    "One final observation:  cross-entropy is not symmetric (think about how $P$ and $Q$ appear in the formula to understand why).  As a result KL Divergence isn't symmetric either (if you want to prove this to yourself substitute in for CE and E in the equation above and simplify).  So while KL divergence is a measure of similarity, it's useful to keep in mind that $D_{KL}(P\\ ||\\ Q) \\ne D_{KL}(Q\\ ||\\ P)$."
   ]
  },
  {
   "cell_type": "markdown",
   "metadata": {
    "id": "jtnaRL8hdd1Q"
   },
   "source": [
    "[Return to Top](#returnToTop)  \n",
    "<a id = 'checkXEntropy'></a>\n",
    "\n",
    "### 2.4 Checking a Few Things About Cross-Entropy\n",
    "\n",
    "Now imagine a 2nd distribution q which is close to $p$ but differs a bit. These are a prediction your model has made.  We'll construct it via a small $\\delta$ vector which has a mean of zero, and whose scale is a small number $\\epsilon$:"
   ]
  },
  {
   "cell_type": "code",
   "execution_count": 6,
   "metadata": {
    "colab": {
     "base_uri": "https://localhost:8080/"
    },
    "id": "yp7gvxLsdd1Q",
    "outputId": "9299bda5-e8c3-4742-a651-4dfb35ec1181"
   },
   "outputs": [
    {
     "name": "stdout",
     "output_type": "stream",
     "text": [
      "q:  [0.30499661 0.1997497  0.09972565 0.2564001  0.13912794]\n"
     ]
    }
   ],
   "source": [
    "def create_q(p0, epsilon=0.03):\n",
    "\n",
    "    delta = epsilon * np.random.random(5)\n",
    "    delta = delta - np.mean(delta)\n",
    "\n",
    "    return (p0 + delta)\n",
    "\n",
    "q = create_q(p)\n",
    "print('q: ', q)"
   ]
  },
  {
   "cell_type": "markdown",
   "metadata": {
    "id": "KoSLju4Xdd1R"
   },
   "source": [
    "What is the cross entropy?"
   ]
  },
  {
   "cell_type": "code",
   "execution_count": 7,
   "metadata": {
    "colab": {
     "base_uri": "https://localhost:8080/"
    },
    "id": "NXtPMOqYdd1R",
    "outputId": "a138d28d-0e1e-4492-97eb-a6d596a2450e"
   },
   "outputs": [
    {
     "name": "stdout",
     "output_type": "stream",
     "text": [
      "2.2289867808442727\n"
     ]
    }
   ],
   "source": [
    "ce = -np.dot(p, np.log2(q))\n",
    "print(ce)"
   ]
  },
  {
   "cell_type": "markdown",
   "metadata": {
    "id": "RBYJQOTedd1S"
   },
   "source": [
    "Close! Smaller or bigger than entropy?"
   ]
  },
  {
   "cell_type": "code",
   "execution_count": 8,
   "metadata": {
    "colab": {
     "base_uri": "https://localhost:8080/"
    },
    "id": "8W38GfiPdd1S",
    "outputId": "374f63f1-5013-4f6c-f2db-47ff8b42e7af"
   },
   "outputs": [
    {
     "name": "stdout",
     "output_type": "stream",
     "text": [
      "True\n"
     ]
    }
   ],
   "source": [
    "print((ce - S) > 0)"
   ]
  },
  {
   "cell_type": "markdown",
   "metadata": {
    "id": "fQAVNuIpdd1S"
   },
   "source": [
    "Let's try that for many q:"
   ]
  },
  {
   "cell_type": "code",
   "execution_count": 9,
   "metadata": {
    "colab": {
     "base_uri": "https://localhost:8080/"
    },
    "id": "BS7De8WGdd1T",
    "outputId": "f8666a18-55df-47c9-962c-f5927189f1fa"
   },
   "outputs": [
    {
     "name": "stdout",
     "output_type": "stream",
     "text": [
      "ce > S?  True\n",
      "ce > S?  True\n",
      "ce > S?  True\n",
      "ce > S?  True\n",
      "ce > S?  True\n"
     ]
    }
   ],
   "source": [
    "for attempt in range(5):\n",
    "    q = create_q(p)\n",
    "    ce = -np.dot(p, np.log2(q))\n",
    "    #print(q)\n",
    "    print('ce > S? ', (ce-S)>0)\n"
   ]
  },
  {
   "cell_type": "markdown",
   "metadata": {
    "id": "gFQeE3eVdd1T"
   },
   "source": [
    "Indeed... $ce$ is always larger than $S$ ('experimentally verified', but should be proven). $ce = S$ when $q=p$, therefore minimizing $ce$ drives $q \\rightarrow p$.  KL Divergence is the difference between cross entropy and entropy."
   ]
  },
  {
   "cell_type": "markdown",
   "metadata": {
    "id": "j8ld9BUNdd1U"
   },
   "source": [
    "[Return to Top](#returnToTop)  \n",
    "<a id = 'vectorMatrixCalc'></a>\n",
    "\n",
    "## 3. A Few Basic Words on Vector and Matrix Calculations\n",
    "\n",
    "Imagine a neural net where the dimension  of the incoming layer is $4$, and the next layer has dimension $3$. Let $x$ be the input. What are the dimensions of the weight matrix $W$ and bias vector $b$ in $$z = f(x W + b)?$$    "
   ]
  },
  {
   "cell_type": "markdown",
   "metadata": {
    "id": "skWldllAdd1U"
   },
   "source": [
    "$W$ needs to 'translate' a 4-d vector into a 3-d vector. Hence dim$(W) = 4 \\times 3$.\n",
    "\n",
    "Each output neuron has its own bias value, dim$(b) = 3$.\n",
    "\n",
    "We can easily implement this using numpy and then experiment with various dimensions to help build intuition.  Here's an example with the diemnsions above:"
   ]
  },
  {
   "cell_type": "code",
   "execution_count": 10,
   "metadata": {
    "id": "AJLe04pudd1U"
   },
   "outputs": [],
   "source": [
    "#input\n",
    "x = np.array([1,1,2,2])\n",
    "\n",
    "#Weight matrix\n",
    "W = np.array([[-1,-3,-2],[-2,3,-6],[4,-2,3], [-1, 5, 1]])\n",
    "\n",
    "#bias terms\n",
    "b = np.array([-1, -2, -3])"
   ]
  },
  {
   "cell_type": "code",
   "execution_count": 11,
   "metadata": {
    "colab": {
     "base_uri": "https://localhost:8080/"
    },
    "id": "RYI9IvNYdd1V",
    "outputId": "57ad82a6-e57b-4094-93f7-e7d9dfe0e558"
   },
   "outputs": [
    {
     "name": "stdout",
     "output_type": "stream",
     "text": [
      "x shape:  (4,)\n",
      "W shape:  (4, 3)\n",
      "b shape:  (3,)\n"
     ]
    }
   ],
   "source": [
    "print('x shape: ', x.shape)\n",
    "print('W shape: ', W.shape)\n",
    "print('b shape: ', b.shape)"
   ]
  },
  {
   "cell_type": "markdown",
   "metadata": {
    "id": "ee2LGOdGdd1V"
   },
   "source": [
    "The W weight matrix and the bias term together make up the affine. The output of the affine is called the logit which we will label $z$."
   ]
  },
  {
   "cell_type": "code",
   "execution_count": 12,
   "metadata": {
    "colab": {
     "base_uri": "https://localhost:8080/"
    },
    "id": "04hGJIHudd1V",
    "outputId": "feb682b6-441e-43fe-db32-aa4f40bb8adf"
   },
   "outputs": [
    {
     "data": {
      "text/plain": [
       "array([ 2,  4, -3])"
      ]
     },
     "execution_count": 12,
     "metadata": {},
     "output_type": "execute_result"
    }
   ],
   "source": [
    "# calculate the logit which we label as z\n",
    "z = x.dot(W) + b\n",
    "z"
   ]
  },
  {
   "cell_type": "markdown",
   "metadata": {
    "id": "XQ3BM1aWdd1W"
   },
   "source": [
    "Now let's add the non-linearity, sigmoid to be concrete in this case. The non-linearity is an element-wise operation. (The last output layer at the end however is different.)"
   ]
  },
  {
   "cell_type": "code",
   "execution_count": 13,
   "metadata": {
    "id": "6U_kTTE7dd1W"
   },
   "outputs": [],
   "source": [
    "def sigmoid(y):\n",
    "    return 1/(1 + np.exp(-y))"
   ]
  },
  {
   "cell_type": "markdown",
   "metadata": {
    "id": "dR-1KiEkdd1W"
   },
   "source": [
    "Now pass the logit $z$ through the non-linearity"
   ]
  },
  {
   "cell_type": "code",
   "execution_count": 14,
   "metadata": {
    "colab": {
     "base_uri": "https://localhost:8080/"
    },
    "id": "Z0H7mmjXdd1W",
    "outputId": "31150edb-26f1-4e94-e6bb-ee04a605290e"
   },
   "outputs": [
    {
     "data": {
      "text/plain": [
       "array([0.88079708, 0.98201379, 0.04742587])"
      ]
     },
     "execution_count": 14,
     "metadata": {},
     "output_type": "execute_result"
    }
   ],
   "source": [
    "h = sigmoid(z)\n",
    "h"
   ]
  },
  {
   "cell_type": "markdown",
   "metadata": {
    "id": "AVoD_TZDdd1W"
   },
   "source": [
    "[Return to Top](#returnToTop)  \n",
    "<a id = 'tensorManipulation'></a>\n",
    "\n",
    "###  3.1 Tensors and Tensor Manipulation\n",
    "\n",
    "Tensorflow operates on [tensors](https://www.tensorflow.org/guide/tensor) which you can think of like numpy arrays.  Tensors have shape, rank, dimension (or axis) and size.  Let's look at what each of these means.\n",
    "\n",
    "The rank is the number of axes in the tensor. A rank_0 tensor is a scalar.  A rank_1 tensor is a vector. A rank_2 tensor is a matrix.\n",
    "\n",
    "The shape is the legnth of each of the axes in the tensor.  The axis is a way of referring to a particular axis within the tensor.  The size is the total number of elements in the tensor.\n",
    "\n",
    "Let's create a rank_4 tensor full of ones to see how this works."
   ]
  },
  {
   "cell_type": "code",
   "execution_count": 15,
   "metadata": {
    "id": "053wPKiBdd1X"
   },
   "outputs": [],
   "source": [
    "rank_4_tensor = tf.ones([3,2,5,7])"
   ]
  },
  {
   "cell_type": "markdown",
   "metadata": {
    "id": "QzcrLeaKdd1X"
   },
   "source": [
    "What does our rank_4 tensor look like?  We can simply print it out to see."
   ]
  },
  {
   "cell_type": "code",
   "execution_count": 16,
   "metadata": {
    "colab": {
     "base_uri": "https://localhost:8080/"
    },
    "id": "05K-0_yddd1X",
    "outputId": "2f59f5f5-418a-4eef-95ec-f551df8a934f"
   },
   "outputs": [
    {
     "data": {
      "text/plain": [
       "<tf.Tensor: shape=(3, 2, 5, 7), dtype=float32, numpy=\n",
       "array([[[[1., 1., 1., 1., 1., 1., 1.],\n",
       "         [1., 1., 1., 1., 1., 1., 1.],\n",
       "         [1., 1., 1., 1., 1., 1., 1.],\n",
       "         [1., 1., 1., 1., 1., 1., 1.],\n",
       "         [1., 1., 1., 1., 1., 1., 1.]],\n",
       "\n",
       "        [[1., 1., 1., 1., 1., 1., 1.],\n",
       "         [1., 1., 1., 1., 1., 1., 1.],\n",
       "         [1., 1., 1., 1., 1., 1., 1.],\n",
       "         [1., 1., 1., 1., 1., 1., 1.],\n",
       "         [1., 1., 1., 1., 1., 1., 1.]]],\n",
       "\n",
       "\n",
       "       [[[1., 1., 1., 1., 1., 1., 1.],\n",
       "         [1., 1., 1., 1., 1., 1., 1.],\n",
       "         [1., 1., 1., 1., 1., 1., 1.],\n",
       "         [1., 1., 1., 1., 1., 1., 1.],\n",
       "         [1., 1., 1., 1., 1., 1., 1.]],\n",
       "\n",
       "        [[1., 1., 1., 1., 1., 1., 1.],\n",
       "         [1., 1., 1., 1., 1., 1., 1.],\n",
       "         [1., 1., 1., 1., 1., 1., 1.],\n",
       "         [1., 1., 1., 1., 1., 1., 1.],\n",
       "         [1., 1., 1., 1., 1., 1., 1.]]],\n",
       "\n",
       "\n",
       "       [[[1., 1., 1., 1., 1., 1., 1.],\n",
       "         [1., 1., 1., 1., 1., 1., 1.],\n",
       "         [1., 1., 1., 1., 1., 1., 1.],\n",
       "         [1., 1., 1., 1., 1., 1., 1.],\n",
       "         [1., 1., 1., 1., 1., 1., 1.]],\n",
       "\n",
       "        [[1., 1., 1., 1., 1., 1., 1.],\n",
       "         [1., 1., 1., 1., 1., 1., 1.],\n",
       "         [1., 1., 1., 1., 1., 1., 1.],\n",
       "         [1., 1., 1., 1., 1., 1., 1.],\n",
       "         [1., 1., 1., 1., 1., 1., 1.]]]], dtype=float32)>"
      ]
     },
     "execution_count": 16,
     "metadata": {},
     "output_type": "execute_result"
    }
   ],
   "source": [
    "rank_4_tensor"
   ]
  },
  {
   "cell_type": "markdown",
   "metadata": {
    "id": "-QG21r9tdd1X"
   },
   "source": [
    "How can we look at specific attributes of out rank_4 tensor?  We can use Tensorflow's shape command."
   ]
  },
  {
   "cell_type": "code",
   "execution_count": 17,
   "metadata": {
    "colab": {
     "base_uri": "https://localhost:8080/"
    },
    "id": "uiqWJnEbdd1X",
    "outputId": "f25fa6d1-113d-41d7-ddd6-1390f201a049"
   },
   "outputs": [
    {
     "name": "stdout",
     "output_type": "stream",
     "text": [
      "Number of axes: 4\n",
      "Shape of tensor: (3, 2, 5, 7)\n",
      "Elements along axis 0 of tensor: 3\n",
      "Elements along axis 1 of tensor: 2\n",
      "Elements along axis 2 of tensor: 5\n",
      "Elements along the last axis of tensor: 7\n",
      "Total number of elements (3*2*5*7):  210\n"
     ]
    }
   ],
   "source": [
    "print(\"Number of axes:\", rank_4_tensor.ndim)\n",
    "print(\"Shape of tensor:\", rank_4_tensor.shape)\n",
    "print(\"Elements along axis 0 of tensor:\", rank_4_tensor.shape[0])\n",
    "print(\"Elements along axis 1 of tensor:\", rank_4_tensor.shape[1])\n",
    "print(\"Elements along axis 2 of tensor:\", rank_4_tensor.shape[2])\n",
    "print(\"Elements along the last axis of tensor:\", rank_4_tensor.shape[-1])\n",
    "print(\"Total number of elements (3*2*5*7): \", tf.size(rank_4_tensor).numpy())\n"
   ]
  },
  {
   "cell_type": "markdown",
   "metadata": {
    "id": "s9-7-8Mqdd1Y"
   },
   "source": [
    "Not only can we see the shape of a tensor in a number of ways, but we can also alter the shape.  Sometimes we need to change our tensor's shape to match the input or process the output of our model.\n",
    "\n",
    "Let's define a rank_1 tensor with all the numbers between 0 and 29."
   ]
  },
  {
   "cell_type": "code",
   "execution_count": 18,
   "metadata": {
    "id": "tKyHwQqDdd1Z"
   },
   "outputs": [],
   "source": [
    "tensor = tf.constant([0,1,2,3,4,5,6,7,8,9,10,11,12,13,14,15,16,17,18,19,20,21,22,23,24,25,26,27,28,29], dtype=tf.float16)"
   ]
  },
  {
   "cell_type": "code",
   "execution_count": 19,
   "metadata": {
    "colab": {
     "base_uri": "https://localhost:8080/"
    },
    "id": "y4IbIGkOdd1Z",
    "outputId": "45a54f09-8abc-426f-bde0-b46e50158672"
   },
   "outputs": [
    {
     "data": {
      "text/plain": [
       "<tf.Tensor: shape=(30,), dtype=float16, numpy=\n",
       "array([ 0.,  1.,  2.,  3.,  4.,  5.,  6.,  7.,  8.,  9., 10., 11., 12.,\n",
       "       13., 14., 15., 16., 17., 18., 19., 20., 21., 22., 23., 24., 25.,\n",
       "       26., 27., 28., 29.], dtype=float16)>"
      ]
     },
     "execution_count": 19,
     "metadata": {},
     "output_type": "execute_result"
    }
   ],
   "source": [
    "tensor"
   ]
  },
  {
   "cell_type": "markdown",
   "metadata": {
    "id": "6ibGdVHSdd1Z"
   },
   "source": [
    "Tensors can be reshaped.  Let's take our 1_rank tensor and reshape it into a 2_rank tensor dividing our numbers into groups of 10.  "
   ]
  },
  {
   "cell_type": "code",
   "execution_count": 20,
   "metadata": {
    "id": "oxc68qM5dd1a"
   },
   "outputs": [],
   "source": [
    "reshaped_tensor = tf.reshape(tensor, [3,10])"
   ]
  },
  {
   "cell_type": "code",
   "execution_count": 21,
   "metadata": {
    "colab": {
     "base_uri": "https://localhost:8080/"
    },
    "id": "WLft8atqdd1a",
    "outputId": "508a8515-bb33-4ee2-8f1a-f1243dcca6ee"
   },
   "outputs": [
    {
     "data": {
      "text/plain": [
       "<tf.Tensor: shape=(3, 10), dtype=float16, numpy=\n",
       "array([[ 0.,  1.,  2.,  3.,  4.,  5.,  6.,  7.,  8.,  9.],\n",
       "       [10., 11., 12., 13., 14., 15., 16., 17., 18., 19.],\n",
       "       [20., 21., 22., 23., 24., 25., 26., 27., 28., 29.]], dtype=float16)>"
      ]
     },
     "execution_count": 21,
     "metadata": {},
     "output_type": "execute_result"
    }
   ],
   "source": [
    "reshaped_tensor"
   ]
  },
  {
   "cell_type": "markdown",
   "metadata": {
    "id": "xE44XPJQdd1a"
   },
   "source": [
    "That worked.  We took our vector (rank_1 tensor) and reshaped it into a 3 row by 10 column matrix (rank_2 tensor).\n",
    "\n",
    "Often times you'll want to retrieve a specific element or elements within a tensor.  We can use slice the way we would with arrays or we can just reference a specific element.  Here's an example of retrieving the value '17' which will be the in the second row and the eighth column.   "
   ]
  },
  {
   "cell_type": "code",
   "execution_count": 22,
   "metadata": {
    "colab": {
     "base_uri": "https://localhost:8080/"
    },
    "id": "hQLEFo-Bdd1a",
    "outputId": "58391966-ddc3-48ba-d354-df5f73058fd2"
   },
   "outputs": [
    {
     "data": {
      "text/plain": [
       "<tf.Tensor: shape=(), dtype=float16, numpy=17.0>"
      ]
     },
     "execution_count": 22,
     "metadata": {},
     "output_type": "execute_result"
    }
   ],
   "source": [
    "reshaped_tensor[1][7]"
   ]
  },
  {
   "cell_type": "markdown",
   "metadata": {
    "id": "GX7HXSzCdd1b"
   },
   "source": [
    "[Return to Top](#returnToTop)  \n",
    "<a id = 'softmax'></a>\n",
    "\n",
    "## 4. Familiarization with the Output Layer and Softmax Operation\n",
    "\n",
    "Imagine your output layer (which does not have a non-linearity) returns these 5 numbers as the logit:"
   ]
  },
  {
   "cell_type": "code",
   "execution_count": 23,
   "metadata": {
    "colab": {
     "base_uri": "https://localhost:8080/"
    },
    "id": "7H0dzHGbdd1b",
    "outputId": "e6a8adc0-f986-4f99-a5d0-d807ba4e1add"
   },
   "outputs": [
    {
     "name": "stdout",
     "output_type": "stream",
     "text": [
      "o:  [ 3.73269405  2.45019242 -4.74662351 -4.26344724 -2.35712346]\n"
     ]
    }
   ],
   "source": [
    "o = 10 * np.random.random(5) - 5\n",
    "print('o: ', o)"
   ]
  },
  {
   "cell_type": "markdown",
   "metadata": {
    "id": "wRj2VK64dd1b"
   },
   "source": [
    "In a classification problem, these 5 numbers would be the output for each class. They can be large, small, positive, negative, etc.\n",
    "\n",
    "We want to model probabilities though. Hence, we need to convert the output to 5 values that are **1) positive** and **2) must sum to 1**.\n",
    "\n",
    "Let's first exponentiate all values:"
   ]
  },
  {
   "cell_type": "code",
   "execution_count": 24,
   "metadata": {
    "colab": {
     "base_uri": "https://localhost:8080/"
    },
    "id": "rRmJkYDcdd1b",
    "outputId": "d11c1de1-38f8-4d66-aae8-2b41cff40eb6"
   },
   "outputs": [
    {
     "name": "stdout",
     "output_type": "stream",
     "text": [
      "outputs:  [4.17915450e+01 1.15905768e+01 8.68095698e-03 1.40737032e-02\n",
      " 9.46922178e-02]\n"
     ]
    }
   ],
   "source": [
    "exp_o = np.exp(o)\n",
    "print('outputs: ', exp_o)"
   ]
  },
  {
   "cell_type": "markdown",
   "metadata": {
    "id": "f4VEH634dd1c"
   },
   "source": [
    "Great. All numbers are positive. But they don't sum to $1$. Simple solution: divide each value by the sum of all values:"
   ]
  },
  {
   "cell_type": "code",
   "execution_count": 25,
   "metadata": {
    "colab": {
     "base_uri": "https://localhost:8080/"
    },
    "id": "YJgUyojIdd1c",
    "outputId": "4ea18bc7-160c-4c09-c895-9705f0d8d500"
   },
   "outputs": [
    {
     "name": "stdout",
     "output_type": "stream",
     "text": [
      "sum of all output values:  53.49956860816274\n"
     ]
    }
   ],
   "source": [
    "sum_exp_o = np.sum(exp_o)\n",
    "print('sum of all output values: ', sum_exp_o)"
   ]
  },
  {
   "cell_type": "code",
   "execution_count": 26,
   "metadata": {
    "colab": {
     "base_uri": "https://localhost:8080/"
    },
    "id": "0JwKc_T_dd1c",
    "outputId": "a4d0f7e9-b18b-4831-8961-c999ce6bc90e"
   },
   "outputs": [
    {
     "name": "stdout",
     "output_type": "stream",
     "text": [
      "model probabilities p:  [7.81156672e-01 2.16648042e-01 1.62262186e-04 2.63061994e-04\n",
      " 1.76996227e-03]\n"
     ]
    }
   ],
   "source": [
    "p = exp_o/sum_exp_o\n",
    "print('model probabilities p: ', p)"
   ]
  },
  {
   "cell_type": "code",
   "execution_count": 27,
   "metadata": {
    "colab": {
     "base_uri": "https://localhost:8080/"
    },
    "id": "PPyVnKpvdd1c",
    "outputId": "e71cacb2-92c6-41c9-b209-006bbef8a91c"
   },
   "outputs": [
    {
     "name": "stdout",
     "output_type": "stream",
     "text": [
      "model probabilities q:  [7.81156672e-01 2.16648042e-01 1.62262186e-04 2.63061994e-04\n",
      " 1.76996227e-03]\n"
     ]
    }
   ],
   "source": [
    "p = exp_o/sum_exp_o\n",
    "print('model probabilities q: ', p)"
   ]
  },
  {
   "cell_type": "code",
   "execution_count": 28,
   "metadata": {
    "colab": {
     "base_uri": "https://localhost:8080/"
    },
    "id": "UzNJUKAddd1d",
    "outputId": "a365bd3d-af20-43a1-bacd-31e22b2fafe9"
   },
   "outputs": [
    {
     "data": {
      "text/plain": [
       "0.9999999999999999"
      ]
     },
     "execution_count": 28,
     "metadata": {},
     "output_type": "execute_result"
    }
   ],
   "source": [
    "np.sum(p)"
   ]
  },
  {
   "cell_type": "markdown",
   "metadata": {
    "id": "SE593enrdd1d"
   },
   "source": [
    "Cool! Sums to 1 as desired. (Not a surprise.)\n",
    "\n",
    "What happens if I add a constant to each value in $o$? How is softmax affected?"
   ]
  },
  {
   "cell_type": "code",
   "execution_count": 29,
   "metadata": {
    "id": "_lkC3OS5dd1d"
   },
   "outputs": [],
   "source": [
    "o_2 = o + 1"
   ]
  },
  {
   "cell_type": "code",
   "execution_count": 30,
   "metadata": {
    "colab": {
     "base_uri": "https://localhost:8080/"
    },
    "id": "cHvwo3Qvdd1d",
    "outputId": "e334229b-460e-427b-9859-3731da4fc172"
   },
   "outputs": [
    {
     "name": "stdout",
     "output_type": "stream",
     "text": [
      "outputs:  [1.13601197e+02 3.15064542e+01 2.35972876e-02 3.82562917e-02\n",
      " 2.57400135e-01]\n"
     ]
    }
   ],
   "source": [
    "exp_o_2 = np.exp(o_2)\n",
    "print('outputs: ', exp_o_2)"
   ]
  },
  {
   "cell_type": "code",
   "execution_count": 31,
   "metadata": {
    "id": "BgSREzrPdd1e"
   },
   "outputs": [],
   "source": [
    "sum_exp_o_2 = np.sum(exp_o_2)"
   ]
  },
  {
   "cell_type": "code",
   "execution_count": 32,
   "metadata": {
    "colab": {
     "base_uri": "https://localhost:8080/"
    },
    "id": "GqSuajwBdd1e",
    "outputId": "48e382c2-7af7-4fc0-d471-c5fe411a869c"
   },
   "outputs": [
    {
     "name": "stdout",
     "output_type": "stream",
     "text": [
      "new probabilities q_2:  [7.81156672e-01 2.16648042e-01 1.62262186e-04 2.63061994e-04\n",
      " 1.76996227e-03]\n"
     ]
    }
   ],
   "source": [
    "q = exp_o_2/sum_exp_o_2\n",
    "print('new probabilities q_2: ', q)"
   ]
  },
  {
   "cell_type": "markdown",
   "metadata": {
    "id": "GcI-qvd3dd1e"
   },
   "source": [
    "Same!"
   ]
  },
  {
   "cell_type": "markdown",
   "metadata": {
    "id": "zkOL7oLIdd1f"
   },
   "source": [
    "[Return to Top](#returnToTop)  \n",
    "<a id = 'basicKeras'></a>\n",
    "\n",
    "## 5. Most Basic Keras Intro\n",
    "\n",
    "Simple 3-class classification model. This is only intended to illustrate the TensorFlow/Keras concepts. See: https://www.tensorflow.org/guide/keras"
   ]
  },
  {
   "cell_type": "markdown",
   "metadata": {
    "id": "skmU_-nCdd1f"
   },
   "source": [
    "There are two types of formalisms: 1) **Sequential** models, and 2) **Functional API**. The former is a little simpler, but it only supports (as the name says) sequential architectures. The Functional API approach is extremely flexible and will be introduced later. (And that is the one we will generally use for the rest of the class.)   \n",
    "\n",
    "\n",
    "But only for this first test we set up a **Sequential** model, wrapped in a function:"
   ]
  },
  {
   "cell_type": "code",
   "execution_count": 33,
   "metadata": {
    "id": "dwdMZWd7dd1f"
   },
   "outputs": [],
   "source": [
    "def create_model(dropout=0.0, num_neurons=10):\n",
    "    # Define 'sequential' model (vs. 'functional'... we'll discuss later.)\n",
    "    model = keras.Sequential([\n",
    "\n",
    "    # Let's go nuts in terms of layers and neurons per layer and actively try to overfit\n",
    "\n",
    "    # Add 5 densely-connected layers with num_neurons units followed by dropout to the model:\n",
    "\n",
    "    layers.Dense(num_neurons, activation='relu',\n",
    "                 #kernel_initializer=keras.initializers.glorot_normal ,\n",
    "                 input_shape=(20,)),         # '20' is the number of features of the input\n",
    "\n",
    "    # add a droput layer\n",
    "    layers.Dropout(dropout),\n",
    "\n",
    "    layers.Dense(num_neurons, activation='relu'),\n",
    "    layers.Dropout(dropout),\n",
    "\n",
    "    layers.Dense(num_neurons, activation='relu'),\n",
    "    layers.Dropout(dropout),\n",
    "\n",
    "    layers.Dense(num_neurons, activation='relu'),\n",
    "    layers.Dropout(dropout),\n",
    "\n",
    "    layers.Dense(num_neurons, activation='relu'),\n",
    "    layers.Dropout(dropout),\n",
    "\n",
    "    # Create a softmax layer with 3 output units -\n",
    "    # as required by the labels being 3 dimensional representinbg 3 classes:\n",
    "    layers.Dense(3, activation='softmax')])\n",
    "\n",
    "    # Compile model. Configure a model for categorical classification.\n",
    "    model.compile(optimizer=keras.optimizers.Adam(),\n",
    "              loss='categorical_crossentropy',\n",
    "              metrics=[keras.metrics.categorical_accuracy])\n",
    "\n",
    "    return model"
   ]
  },
  {
   "cell_type": "markdown",
   "metadata": {
    "id": "a9OWpaIJdd1g"
   },
   "source": [
    "Create some fake input data ():"
   ]
  },
  {
   "cell_type": "code",
   "execution_count": 34,
   "metadata": {
    "id": "sKtRoSr0dd1g"
   },
   "outputs": [],
   "source": [
    "def random_one_hot_labels(num_examples, num_classes, dim):\n",
    "\n",
    "    #create random data\n",
    "    base_data = np.random.random((num_examples, dim))\n",
    "\n",
    "    #create random labels\n",
    "    classes = np.random.randint(0, num_classes, num_examples)\n",
    "    labels = np.zeros((num_examples, num_classes))\n",
    "    labels[np.arange(num_examples), classes] = 1\n",
    "\n",
    "    # hide a small signal in the data\n",
    "    label_to_data_signal = np.reshape(np.array(np.random.random(num_classes * dim)),\n",
    "                                      (num_classes, dim))\n",
    "\n",
    "    signals = np.matmul(labels, label_to_data_signal)\n",
    "\n",
    "    data = base_data + 1/2 * signals\n",
    "\n",
    "    return data, labels\n",
    "\n",
    "\n",
    "\n",
    "data, labels = random_one_hot_labels(10000, 3, 20)"
   ]
  },
  {
   "cell_type": "markdown",
   "metadata": {
    "id": "gv9Eo6d1dd1g"
   },
   "source": [
    "Create a model without dropout:"
   ]
  },
  {
   "cell_type": "code",
   "execution_count": 35,
   "metadata": {
    "colab": {
     "base_uri": "https://localhost:8080/"
    },
    "id": "9TQgOTE1dd1h",
    "outputId": "05bd44cd-3973-41c5-ba40-28229dcd8f45"
   },
   "outputs": [
    {
     "name": "stderr",
     "output_type": "stream",
     "text": [
      "/usr/local/lib/python3.10/dist-packages/keras/src/layers/core/dense.py:87: UserWarning: Do not pass an `input_shape`/`input_dim` argument to a layer. When using Sequential models, prefer using an `Input(shape)` object as the first layer in the model instead.\n",
      "  super().__init__(activity_regularizer=activity_regularizer, **kwargs)\n"
     ]
    }
   ],
   "source": [
    "model_0 = create_model(0.0, 200)"
   ]
  },
  {
   "cell_type": "markdown",
   "metadata": {
    "id": "BaEXxXXBdd1h"
   },
   "source": [
    "Make a couple of predictions prior to training when the model has only been compiled. Are they random?"
   ]
  },
  {
   "cell_type": "code",
   "execution_count": 36,
   "metadata": {
    "colab": {
     "base_uri": "https://localhost:8080/"
    },
    "id": "kA2YbIPUdd1h",
    "outputId": "8156a21c-5e1a-4505-ab9a-d5857ddddc18"
   },
   "outputs": [
    {
     "name": "stdout",
     "output_type": "stream",
     "text": [
      "\u001b[1m1/1\u001b[0m \u001b[32m━━━━━━━━━━━━━━━━━━━━\u001b[0m\u001b[37m\u001b[0m \u001b[1m1s\u001b[0m 703ms/step\n"
     ]
    },
    {
     "data": {
      "text/plain": [
       "array([[0.31763136, 0.33872724, 0.3436414 ],\n",
       "       [0.30635777, 0.34762195, 0.34602028]], dtype=float32)"
      ]
     },
     "execution_count": 36,
     "metadata": {},
     "output_type": "execute_result"
    }
   ],
   "source": [
    "model_0.predict(data[:2])"
   ]
  },
  {
   "cell_type": "markdown",
   "metadata": {
    "id": "pnQfT61Ydd1h"
   },
   "source": [
    "Pretty much...\n",
    "Now then train your model:"
   ]
  },
  {
   "cell_type": "code",
   "execution_count": 37,
   "metadata": {
    "colab": {
     "base_uri": "https://localhost:8080/"
    },
    "id": "QALIsmqwdd1i",
    "outputId": "59f1c464-16a6-4830-83e1-197e10b48d21"
   },
   "outputs": [
    {
     "name": "stdout",
     "output_type": "stream",
     "text": [
      "160/160 - 1s - 7ms/step - categorical_accuracy: 0.9944 - loss: 0.0165 - val_categorical_accuracy: 0.8870 - val_loss: 0.6112\n"
     ]
    },
    {
     "data": {
      "text/plain": [
       "<keras.src.callbacks.history.History at 0x7b8f6967a4a0>"
      ]
     },
     "execution_count": 37,
     "metadata": {},
     "output_type": "execute_result"
    }
   ],
   "source": [
    "history_0 = model_0.fit(data, labels,\n",
    "          validation_split=0.2,\n",
    "          epochs=100,\n",
    "          batch_size=50,\n",
    "          verbose=0)\n",
    "\n",
    "model_0.fit(data, labels,\n",
    "          validation_split=0.2,\n",
    "          epochs=1,\n",
    "          batch_size=50,\n",
    "          verbose=2)"
   ]
  },
  {
   "cell_type": "markdown",
   "metadata": {
    "id": "uQnaIPQQdd1i"
   },
   "source": [
    "Now create and train a model with dropout:"
   ]
  },
  {
   "cell_type": "code",
   "execution_count": 38,
   "metadata": {
    "colab": {
     "base_uri": "https://localhost:8080/"
    },
    "id": "LuwpDcnsdd1i",
    "outputId": "8cc2ce19-5969-4981-d63d-2b4be13e482e"
   },
   "outputs": [
    {
     "name": "stdout",
     "output_type": "stream",
     "text": [
      "\u001b[1m160/160\u001b[0m \u001b[32m━━━━━━━━━━━━━━━━━━━━\u001b[0m\u001b[37m\u001b[0m \u001b[1m1s\u001b[0m 4ms/step - categorical_accuracy: 0.8762 - loss: 0.3610 - val_categorical_accuracy: 0.8845 - val_loss: 0.2950\n"
     ]
    },
    {
     "data": {
      "text/plain": [
       "<keras.src.callbacks.history.History at 0x7b8f692749d0>"
      ]
     },
     "execution_count": 38,
     "metadata": {},
     "output_type": "execute_result"
    }
   ],
   "source": [
    "model_2 = create_model(0.2)\n",
    "\n",
    "history_2 = model_2.fit(data, labels,\n",
    "          validation_split=0.2,\n",
    "          epochs=100,\n",
    "          batch_size=50,\n",
    "          verbose=0)\n",
    "\n",
    "model_2.fit(data, labels,\n",
    "          validation_split=0.2,\n",
    "          epochs=1,\n",
    "          batch_size=50,\n",
    "          verbose=1)"
   ]
  },
  {
   "cell_type": "markdown",
   "metadata": {
    "id": "pmh5x_PPdd1i"
   },
   "source": [
    "Let's look at the behavior by examining the loss and accuracy curves:"
   ]
  },
  {
   "cell_type": "code",
   "execution_count": 39,
   "metadata": {
    "colab": {
     "base_uri": "https://localhost:8080/",
     "height": 843
    },
    "id": "QclYk7pidd1j",
    "outputId": "f3239c2b-19c3-4a02-c273-b9e293876b1d"
   },
   "outputs": [
    {
     "data": {
      "image/png": "[encoded data removed]",
      "text/plain": [
       "<Figure size 1850x1050 with 4 Axes>"
      ]
     },
     "metadata": {},
     "output_type": "display_data"
    }
   ],
   "source": [
    "fig, axs = plt.subplots(2, 2)\n",
    "fig.subplots_adjust(left=0.2, wspace=0.6)\n",
    "make_plot(axs, history_0, history_2)\n",
    "\n",
    "fig.align_ylabels(axs[:, 1])\n",
    "fig.set_size_inches(18.5, 10.5)\n",
    "plt.show()"
   ]
  },
  {
   "cell_type": "markdown",
   "metadata": {
    "id": "Ay0B_qzrdd1j"
   },
   "source": [
    "What is the interpretation? (The example is surely very artificial.)"
   ]
  },
  {
   "cell_type": "markdown",
   "metadata": {
    "id": "G7as1ggudd1j"
   },
   "source": [
    "[Return to Top](#returnToTop)  \n",
    "<a id = 'normalization'></a>\n",
    "\n",
    "## 6. Effect of Layer Normalization\n",
    "\n",
    "In the last step, let's quickly introduce the **Functional API** and then specifically look at the effect of Layer Normalization.  The functional API lets us define each of our layers separately and then connect them together as we see fit.  We no longer have to wrap our layers as a sequence.  We can create arbitrarily complex architectures which we will see in later classes.  Here we will want two separate outputs.  The first output will be what comes out of our dense layer.  The second will be what happens after we pass that dense layer output through a normalization layer.  The functional API lets us look at both of these rather than just the output at the end of the sequence."
   ]
  },
  {
   "cell_type": "code",
   "execution_count": 40,
   "metadata": {
    "id": "6b5_M1wtdd1j"
   },
   "outputs": [],
   "source": [
    "try:\n",
    "    del function_model_layer_norm\n",
    "except:\n",
    "    pass\n",
    "\n",
    "# Functional API!\n",
    "# Define inputs, then network architecture build as a series of:\n",
    "#     layer_output = layer(earlier_layer_output)\n",
    "# then define model through input list and output list\n",
    "\n",
    "inputs = layers.Input(shape=(20,))\n",
    "\n",
    "dense_layer =  layers.Dense(5, activation='relu',\n",
    "                              kernel_initializer=keras.initializers.glorot_normal,\n",
    "                              name='layer_1')\n",
    "\n",
    "dense_out = dense_layer(inputs)\n",
    "\n",
    "# now add layer normalization layer\n",
    "final_out = layers.LayerNormalization()(dense_out)\n",
    "\n",
    "# use actual 2 layers as model outputs to see the effect of the layer normalization.\n",
    "# Note that the model outputs includes dense_out AND final_out\n",
    "function_model_layer_norm = keras.models.Model(inputs=[inputs], outputs=[dense_out, final_out])"
   ]
  },
  {
   "cell_type": "markdown",
   "metadata": {
    "id": "DLdTI8U_dd1k"
   },
   "source": [
    "Let's look at the effect of normalization.  First the output from the dense layer."
   ]
  },
  {
   "cell_type": "code",
   "execution_count": 41,
   "metadata": {
    "colab": {
     "base_uri": "https://localhost:8080/"
    },
    "id": "UCpkB-VTdd1k",
    "outputId": "1e5a63f0-d3f2-4de0-a513-dc209259f3db"
   },
   "outputs": [
    {
     "name": "stdout",
     "output_type": "stream",
     "text": [
      "\u001b[1m1/1\u001b[0m \u001b[32m━━━━━━━━━━━━━━━━━━━━\u001b[0m\u001b[37m\u001b[0m \u001b[1m0s\u001b[0m 107ms/step\n"
     ]
    },
    {
     "data": {
      "text/plain": [
       "array([[0.09434739, 0.        , 0.5835356 , 0.        , 0.2811804 ],\n",
       "       [0.31340203, 0.        , 0.40689874, 0.        , 0.        ]],\n",
       "      dtype=float32)"
      ]
     },
     "execution_count": 41,
     "metadata": {},
     "output_type": "execute_result"
    }
   ],
   "source": [
    "pred_layer_after_dense, pred_layer_after_norm = function_model_layer_norm.predict(data[:2], batch_size=2)\n",
    "pred_layer_after_dense"
   ]
  },
  {
   "cell_type": "markdown",
   "metadata": {
    "id": "qn7Xwv0gdd1k"
   },
   "source": [
    "Now lets see the output after it has passed through the normalization layer."
   ]
  },
  {
   "cell_type": "code",
   "execution_count": 42,
   "metadata": {
    "colab": {
     "base_uri": "https://localhost:8080/"
    },
    "id": "SwR0gv-Sdd1l",
    "outputId": "06e3b77b-c522-4057-a1ad-acabca30a9f1"
   },
   "outputs": [
    {
     "data": {
      "text/plain": [
       "array([[-0.4362996 , -0.85864204,  1.7535326 , -0.85864204,  0.40005118],\n",
       "       [ 0.9321376 , -0.7929752 ,  1.4467876 , -0.7929752 , -0.7929752 ]],\n",
       "      dtype=float32)"
      ]
     },
     "execution_count": 42,
     "metadata": {},
     "output_type": "execute_result"
    }
   ],
   "source": [
    "pred_layer_after_norm"
   ]
  },
  {
   "cell_type": "markdown",
   "metadata": {
    "id": "Fim3qejidd1l"
   },
   "source": [
    "Let's look at the sum and standard deviations of the normalized output:"
   ]
  },
  {
   "cell_type": "code",
   "execution_count": 43,
   "metadata": {
    "colab": {
     "base_uri": "https://localhost:8080/"
    },
    "id": "A9Gjom4udd1l",
    "outputId": "b814abf1-e0fe-4d2c-9d8d-97e10b74860a"
   },
   "outputs": [
    {
     "data": {
      "text/plain": [
       "array([ 1.1920929e-07, -3.5762787e-07], dtype=float32)"
      ]
     },
     "execution_count": 43,
     "metadata": {},
     "output_type": "execute_result"
    }
   ],
   "source": [
    "np.sum(pred_layer_after_norm, axis=-1)"
   ]
  },
  {
   "cell_type": "code",
   "execution_count": 44,
   "metadata": {
    "colab": {
     "base_uri": "https://localhost:8080/"
    },
    "id": "YSd7d8Gddd1l",
    "outputId": "f753c5c9-b148-40f6-d3a6-d2c1a8627fd5"
   },
   "outputs": [
    {
     "data": {
      "text/plain": [
       "array([0.98993003, 0.9847339 ], dtype=float32)"
      ]
     },
     "execution_count": 44,
     "metadata": {},
     "output_type": "execute_result"
    }
   ],
   "source": [
    "np.std(pred_layer_after_norm, axis=-1)"
   ]
  },
  {
   "cell_type": "markdown",
   "metadata": {
    "id": "fu_iMfUCdd1m"
   },
   "source": [
    "Looks reasonable?"
   ]
  },
  {
   "cell_type": "code",
   "execution_count": 44,
   "metadata": {
    "id": "f400vmvodd1m"
   },
   "outputs": [],
   "source": []
  }
 ],
 "metadata": {
  "colab": {
   "provenance": []
  },
  "kernelspec": {
   "display_name": "Python 3 (ipykernel)",
   "language": "python",
   "name": "python3"
  },
  "language_info": {
   "codemirror_mode": {
    "name": "ipython",
    "version": 3
   },
   "file_extension": ".py",
   "mimetype": "text/x-python",
   "name": "python",
   "nbconvert_exporter": "python",
   "pygments_lexer": "ipython3",
   "version": "3.11.5"
  }
 },
 "nbformat": 4,
 "nbformat_minor": 1
}
